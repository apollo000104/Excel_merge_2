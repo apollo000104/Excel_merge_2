{
 "cells": [
  {
   "cell_type": "code",
   "execution_count": 24,
   "metadata": {},
   "outputs": [],
   "source": [
    "import pandas as pd\n",
    "# import glob\n",
    "# file_list=glob.glob('F:\\Learn\\Python\\panda_learn\\excel_merge 2'+'/*.xlsx')\n",
    "\n",
    "\n",
    "f1=pd.read_excel('Registration details.xlsx')\n",
    "f2=pd.read_excel('exam results.xlsx')\n",
    "f_outer=f1[['REGISTRATION NO', 'STUDENT EMAIL ID ']].merge(f2[['REGISTRATION NO', 'Name','Marks Obtained','Percentage']], \n",
    "                                                     on='REGISTRATION NO', how='outer')\n",
    "f_inner=f1[['REGISTRATION NO', 'STUDENT EMAIL ID ']].merge(f2[['REGISTRATION NO', 'Name','Marks Obtained','Percentage']], \n",
    "                                                     on='REGISTRATION NO', how='inner')\n",
    "f_left=f1[['REGISTRATION NO', 'STUDENT EMAIL ID ']].merge(f2[['REGISTRATION NO', 'Name','Marks Obtained','Percentage']], \n",
    "                                                     on='REGISTRATION NO', how='left')\n",
    "f_right=f1[['REGISTRATION NO', 'STUDENT EMAIL ID ']].merge(f2[['REGISTRATION NO', 'Name','Marks Obtained','Percentage']], \n",
    "                                                     on='REGISTRATION NO', how='right')\n",
    "f_outer.to_excel('final_results_outer.xlsx', index= False)\n",
    "f_inner.to_excel('final_results_inner.xlsx', index= False)\n",
    "f_left.to_excel('final_results_left.xlsx', index= False)\n",
    "f_right.to_excel('final_results_right.xlsx', index= False)"
   ]
  },
  {
   "cell_type": "code",
   "execution_count": null,
   "metadata": {},
   "outputs": [],
   "source": []
  }
 ],
 "metadata": {
  "kernelspec": {
   "display_name": "Python 3",
   "language": "python",
   "name": "python3"
  },
  "language_info": {
   "codemirror_mode": {
    "name": "ipython",
    "version": 3
   },
   "file_extension": ".py",
   "mimetype": "text/x-python",
   "name": "python",
   "nbconvert_exporter": "python",
   "pygments_lexer": "ipython3",
   "version": "3.11.4"
  },
  "orig_nbformat": 4
 },
 "nbformat": 4,
 "nbformat_minor": 2
}
